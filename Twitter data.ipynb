{
 "cells": [
  {
   "cell_type": "markdown",
   "metadata": {
    "collapsed": true
   },
   "source": [
    "**Claimer: There are many different metrics to evaluate the performance of a clustering algorithm. The optimal numbers of clusters determined by these metrics might be different by a very small number, i.e., 1 or 2, but in general, these metrics confirm each other. For example, an algorithm that yields a high silhouette score will yield a low Daives Bouldin Score. Hence, I am only going to use the Silhouette score here.**"
   ]
  },
  {
   "cell_type": "code",
   "execution_count": 1,
   "metadata": {},
   "outputs": [
    {
     "data": {
      "text/html": [
       "<div>\n",
       "<style scoped>\n",
       "    .dataframe tbody tr th:only-of-type {\n",
       "        vertical-align: middle;\n",
       "    }\n",
       "\n",
       "    .dataframe tbody tr th {\n",
       "        vertical-align: top;\n",
       "    }\n",
       "\n",
       "    .dataframe thead th {\n",
       "        text-align: right;\n",
       "    }\n",
       "</style>\n",
       "<table border=\"1\" class=\"dataframe\">\n",
       "  <thead>\n",
       "    <tr style=\"text-align: right;\">\n",
       "      <th></th>\n",
       "      <th>0</th>\n",
       "      <th>1</th>\n",
       "      <th>2</th>\n",
       "    </tr>\n",
       "  </thead>\n",
       "  <tbody>\n",
       "    <tr>\n",
       "      <th>0</th>\n",
       "      <td>0</td>\n",
       "      <td>0</td>\n",
       "      <td>1</td>\n",
       "    </tr>\n",
       "    <tr>\n",
       "      <th>1</th>\n",
       "      <td>0</td>\n",
       "      <td>284</td>\n",
       "      <td>1</td>\n",
       "    </tr>\n",
       "    <tr>\n",
       "      <th>2</th>\n",
       "      <td>0</td>\n",
       "      <td>345</td>\n",
       "      <td>1</td>\n",
       "    </tr>\n",
       "    <tr>\n",
       "      <th>3</th>\n",
       "      <td>0</td>\n",
       "      <td>421</td>\n",
       "      <td>1</td>\n",
       "    </tr>\n",
       "    <tr>\n",
       "      <th>4</th>\n",
       "      <td>0</td>\n",
       "      <td>3964</td>\n",
       "      <td>1</td>\n",
       "    </tr>\n",
       "  </tbody>\n",
       "</table>\n",
       "</div>"
      ],
      "text/plain": [
       "   0     1  2\n",
       "0  0     0  1\n",
       "1  0   284  1\n",
       "2  0   345  1\n",
       "3  0   421  1\n",
       "4  0  3964  1"
      ]
     },
     "execution_count": 1,
     "metadata": {},
     "output_type": "execute_result"
    }
   ],
   "source": [
    "import pandas as pd\n",
    "url=\"https://bd29ee0e-54ab-4daa-9671-d153865d1620.usrfiles.com/ugd/bd29ee_80914d7a05904fe1ad56582a8d67f246.csv\"\n",
    "df=pd.read_csv(url,header=None)\n",
    "df.head()"
   ]
  },
  {
   "cell_type": "markdown",
   "metadata": {},
   "source": [
    "The data is in COO matrix format. That means column 0 contains the row numbers, column 1 contains the column numbers and column 2 contains the values. \n",
    "\n",
    "Convert the COO matrix to pandas data frame."
   ]
  },
  {
   "cell_type": "code",
   "execution_count": 2,
   "metadata": {},
   "outputs": [],
   "source": [
    "import numpy as np\n",
    "from scipy.sparse import coo_matrix\n",
    "row=np.asarray(df.iloc[:,0])\n",
    "column=np.asarray(df.iloc[:,1])\n",
    "data=np.asarray(df.iloc[:,2])"
   ]
  },
  {
   "cell_type": "code",
   "execution_count": 3,
   "metadata": {},
   "outputs": [
    {
     "data": {
      "text/plain": [
       "array([[1, 0, 0, ..., 0, 0, 0],\n",
       "       [0, 1, 0, ..., 0, 0, 0],\n",
       "       [0, 0, 1, ..., 0, 0, 0],\n",
       "       ...,\n",
       "       [0, 0, 0, ..., 0, 0, 0],\n",
       "       [0, 0, 0, ..., 0, 0, 0],\n",
       "       [0, 0, 0, ..., 0, 0, 0]], dtype=int64)"
      ]
     },
     "execution_count": 3,
     "metadata": {},
     "output_type": "execute_result"
    }
   ],
   "source": [
    "coo=coo_matrix((data, (row, column))).toarray()\n",
    "coo"
   ]
  },
  {
   "cell_type": "code",
   "execution_count": 4,
   "metadata": {},
   "outputs": [
    {
     "data": {
      "text/html": [
       "<div>\n",
       "<style scoped>\n",
       "    .dataframe tbody tr th:only-of-type {\n",
       "        vertical-align: middle;\n",
       "    }\n",
       "\n",
       "    .dataframe tbody tr th {\n",
       "        vertical-align: top;\n",
       "    }\n",
       "\n",
       "    .dataframe thead th {\n",
       "        text-align: right;\n",
       "    }\n",
       "</style>\n",
       "<table border=\"1\" class=\"dataframe\">\n",
       "  <thead>\n",
       "    <tr style=\"text-align: right;\">\n",
       "      <th></th>\n",
       "      <th>0</th>\n",
       "      <th>1</th>\n",
       "      <th>2</th>\n",
       "      <th>3</th>\n",
       "      <th>4</th>\n",
       "      <th>5</th>\n",
       "      <th>6</th>\n",
       "      <th>7</th>\n",
       "      <th>8</th>\n",
       "      <th>9</th>\n",
       "      <th>...</th>\n",
       "      <th>11337</th>\n",
       "      <th>11338</th>\n",
       "      <th>11339</th>\n",
       "      <th>11340</th>\n",
       "      <th>11341</th>\n",
       "      <th>11342</th>\n",
       "      <th>11343</th>\n",
       "      <th>11344</th>\n",
       "      <th>11345</th>\n",
       "      <th>11346</th>\n",
       "    </tr>\n",
       "  </thead>\n",
       "  <tbody>\n",
       "    <tr>\n",
       "      <th>0</th>\n",
       "      <td>1</td>\n",
       "      <td>0</td>\n",
       "      <td>0</td>\n",
       "      <td>0</td>\n",
       "      <td>0</td>\n",
       "      <td>0</td>\n",
       "      <td>0</td>\n",
       "      <td>0</td>\n",
       "      <td>0</td>\n",
       "      <td>0</td>\n",
       "      <td>...</td>\n",
       "      <td>0</td>\n",
       "      <td>0</td>\n",
       "      <td>0</td>\n",
       "      <td>0</td>\n",
       "      <td>0</td>\n",
       "      <td>0</td>\n",
       "      <td>0</td>\n",
       "      <td>0</td>\n",
       "      <td>0</td>\n",
       "      <td>0</td>\n",
       "    </tr>\n",
       "    <tr>\n",
       "      <th>1</th>\n",
       "      <td>0</td>\n",
       "      <td>1</td>\n",
       "      <td>0</td>\n",
       "      <td>0</td>\n",
       "      <td>0</td>\n",
       "      <td>8</td>\n",
       "      <td>0</td>\n",
       "      <td>0</td>\n",
       "      <td>0</td>\n",
       "      <td>0</td>\n",
       "      <td>...</td>\n",
       "      <td>0</td>\n",
       "      <td>0</td>\n",
       "      <td>0</td>\n",
       "      <td>0</td>\n",
       "      <td>0</td>\n",
       "      <td>0</td>\n",
       "      <td>0</td>\n",
       "      <td>0</td>\n",
       "      <td>0</td>\n",
       "      <td>0</td>\n",
       "    </tr>\n",
       "    <tr>\n",
       "      <th>2</th>\n",
       "      <td>0</td>\n",
       "      <td>0</td>\n",
       "      <td>1</td>\n",
       "      <td>0</td>\n",
       "      <td>0</td>\n",
       "      <td>11</td>\n",
       "      <td>0</td>\n",
       "      <td>0</td>\n",
       "      <td>0</td>\n",
       "      <td>0</td>\n",
       "      <td>...</td>\n",
       "      <td>0</td>\n",
       "      <td>0</td>\n",
       "      <td>0</td>\n",
       "      <td>0</td>\n",
       "      <td>0</td>\n",
       "      <td>0</td>\n",
       "      <td>0</td>\n",
       "      <td>0</td>\n",
       "      <td>0</td>\n",
       "      <td>0</td>\n",
       "    </tr>\n",
       "    <tr>\n",
       "      <th>3</th>\n",
       "      <td>0</td>\n",
       "      <td>0</td>\n",
       "      <td>0</td>\n",
       "      <td>10</td>\n",
       "      <td>0</td>\n",
       "      <td>0</td>\n",
       "      <td>2</td>\n",
       "      <td>0</td>\n",
       "      <td>0</td>\n",
       "      <td>0</td>\n",
       "      <td>...</td>\n",
       "      <td>0</td>\n",
       "      <td>0</td>\n",
       "      <td>0</td>\n",
       "      <td>0</td>\n",
       "      <td>0</td>\n",
       "      <td>0</td>\n",
       "      <td>0</td>\n",
       "      <td>0</td>\n",
       "      <td>0</td>\n",
       "      <td>0</td>\n",
       "    </tr>\n",
       "    <tr>\n",
       "      <th>4</th>\n",
       "      <td>0</td>\n",
       "      <td>0</td>\n",
       "      <td>0</td>\n",
       "      <td>0</td>\n",
       "      <td>19</td>\n",
       "      <td>0</td>\n",
       "      <td>0</td>\n",
       "      <td>0</td>\n",
       "      <td>0</td>\n",
       "      <td>0</td>\n",
       "      <td>...</td>\n",
       "      <td>0</td>\n",
       "      <td>0</td>\n",
       "      <td>0</td>\n",
       "      <td>0</td>\n",
       "      <td>0</td>\n",
       "      <td>0</td>\n",
       "      <td>0</td>\n",
       "      <td>0</td>\n",
       "      <td>0</td>\n",
       "      <td>0</td>\n",
       "    </tr>\n",
       "  </tbody>\n",
       "</table>\n",
       "<p>5 rows × 11347 columns</p>\n",
       "</div>"
      ],
      "text/plain": [
       "   0      1      2      3      4      5      6      7      8      9      ...  \\\n",
       "0      1      0      0      0      0      0      0      0      0      0  ...   \n",
       "1      0      1      0      0      0      8      0      0      0      0  ...   \n",
       "2      0      0      1      0      0     11      0      0      0      0  ...   \n",
       "3      0      0      0     10      0      0      2      0      0      0  ...   \n",
       "4      0      0      0      0     19      0      0      0      0      0  ...   \n",
       "\n",
       "   11337  11338  11339  11340  11341  11342  11343  11344  11345  11346  \n",
       "0      0      0      0      0      0      0      0      0      0      0  \n",
       "1      0      0      0      0      0      0      0      0      0      0  \n",
       "2      0      0      0      0      0      0      0      0      0      0  \n",
       "3      0      0      0      0      0      0      0      0      0      0  \n",
       "4      0      0      0      0      0      0      0      0      0      0  \n",
       "\n",
       "[5 rows x 11347 columns]"
      ]
     },
     "execution_count": 4,
     "metadata": {},
     "output_type": "execute_result"
    }
   ],
   "source": [
    "df=pd.DataFrame(coo)\n",
    "df.head()"
   ]
  },
  {
   "cell_type": "code",
   "execution_count": 5,
   "metadata": {},
   "outputs": [
    {
     "data": {
      "text/plain": [
       "(13559, 11347)"
      ]
     },
     "execution_count": 5,
     "metadata": {},
     "output_type": "execute_result"
    }
   ],
   "source": [
    "df.shape"
   ]
  },
  {
   "cell_type": "markdown",
   "metadata": {},
   "source": [
    "The task is clustering. As shown, the datasete has 11,347 attributes. A clustering task with that many attributes is meaningless. \n",
    "\n",
    "Use IncrementalPCA to reduce the dimension to 10."
   ]
  },
  {
   "cell_type": "code",
   "execution_count": 6,
   "metadata": {},
   "outputs": [
    {
     "data": {
      "text/html": [
       "<div>\n",
       "<style scoped>\n",
       "    .dataframe tbody tr th:only-of-type {\n",
       "        vertical-align: middle;\n",
       "    }\n",
       "\n",
       "    .dataframe tbody tr th {\n",
       "        vertical-align: top;\n",
       "    }\n",
       "\n",
       "    .dataframe thead th {\n",
       "        text-align: right;\n",
       "    }\n",
       "</style>\n",
       "<table border=\"1\" class=\"dataframe\">\n",
       "  <thead>\n",
       "    <tr style=\"text-align: right;\">\n",
       "      <th></th>\n",
       "      <th>0</th>\n",
       "      <th>1</th>\n",
       "      <th>2</th>\n",
       "      <th>3</th>\n",
       "      <th>4</th>\n",
       "      <th>5</th>\n",
       "      <th>6</th>\n",
       "      <th>7</th>\n",
       "      <th>8</th>\n",
       "      <th>9</th>\n",
       "    </tr>\n",
       "  </thead>\n",
       "  <tbody>\n",
       "    <tr>\n",
       "      <th>0</th>\n",
       "      <td>-0.009120</td>\n",
       "      <td>-0.014297</td>\n",
       "      <td>-0.008448</td>\n",
       "      <td>-0.008492</td>\n",
       "      <td>-0.008390</td>\n",
       "      <td>-0.008299</td>\n",
       "      <td>-0.008395</td>\n",
       "      <td>-0.014522</td>\n",
       "      <td>-0.008335</td>\n",
       "      <td>-0.005581</td>\n",
       "    </tr>\n",
       "    <tr>\n",
       "      <th>1</th>\n",
       "      <td>-0.009188</td>\n",
       "      <td>-0.014484</td>\n",
       "      <td>-0.008931</td>\n",
       "      <td>-0.008893</td>\n",
       "      <td>-0.009145</td>\n",
       "      <td>-0.009277</td>\n",
       "      <td>-0.009135</td>\n",
       "      <td>-0.017282</td>\n",
       "      <td>-0.013324</td>\n",
       "      <td>-0.015803</td>\n",
       "    </tr>\n",
       "    <tr>\n",
       "      <th>2</th>\n",
       "      <td>-0.009261</td>\n",
       "      <td>-0.014689</td>\n",
       "      <td>-0.009467</td>\n",
       "      <td>-0.009231</td>\n",
       "      <td>-0.009985</td>\n",
       "      <td>-0.010313</td>\n",
       "      <td>-0.009936</td>\n",
       "      <td>-0.020741</td>\n",
       "      <td>-0.018690</td>\n",
       "      <td>-0.027070</td>\n",
       "    </tr>\n",
       "    <tr>\n",
       "      <th>3</th>\n",
       "      <td>-0.009121</td>\n",
       "      <td>-0.014300</td>\n",
       "      <td>-0.008454</td>\n",
       "      <td>-0.008499</td>\n",
       "      <td>-0.008400</td>\n",
       "      <td>-0.008358</td>\n",
       "      <td>-0.008407</td>\n",
       "      <td>-0.014547</td>\n",
       "      <td>-0.008354</td>\n",
       "      <td>-0.005753</td>\n",
       "    </tr>\n",
       "    <tr>\n",
       "      <th>4</th>\n",
       "      <td>-0.009120</td>\n",
       "      <td>-0.014295</td>\n",
       "      <td>-0.008445</td>\n",
       "      <td>-0.008489</td>\n",
       "      <td>-0.008385</td>\n",
       "      <td>-0.008341</td>\n",
       "      <td>-0.008389</td>\n",
       "      <td>-0.014508</td>\n",
       "      <td>-0.008321</td>\n",
       "      <td>-0.005701</td>\n",
       "    </tr>\n",
       "  </tbody>\n",
       "</table>\n",
       "</div>"
      ],
      "text/plain": [
       "          0         1         2         3         4         5         6  \\\n",
       "0 -0.009120 -0.014297 -0.008448 -0.008492 -0.008390 -0.008299 -0.008395   \n",
       "1 -0.009188 -0.014484 -0.008931 -0.008893 -0.009145 -0.009277 -0.009135   \n",
       "2 -0.009261 -0.014689 -0.009467 -0.009231 -0.009985 -0.010313 -0.009936   \n",
       "3 -0.009121 -0.014300 -0.008454 -0.008499 -0.008400 -0.008358 -0.008407   \n",
       "4 -0.009120 -0.014295 -0.008445 -0.008489 -0.008385 -0.008341 -0.008389   \n",
       "\n",
       "          7         8         9  \n",
       "0 -0.014522 -0.008335 -0.005581  \n",
       "1 -0.017282 -0.013324 -0.015803  \n",
       "2 -0.020741 -0.018690 -0.027070  \n",
       "3 -0.014547 -0.008354 -0.005753  \n",
       "4 -0.014508 -0.008321 -0.005701  "
      ]
     },
     "execution_count": 6,
     "metadata": {},
     "output_type": "execute_result"
    }
   ],
   "source": [
    "from sklearn.decomposition import IncrementalPCA\n",
    "\n",
    "n_components=10\n",
    "transformer = IncrementalPCA(n_components=n_components,whiten=True, batch_size=200)\n",
    "df=pd.DataFrame(transformer.fit_transform(df))\n",
    "df.head()"
   ]
  },
  {
   "cell_type": "code",
   "execution_count": 7,
   "metadata": {},
   "outputs": [
    {
     "data": {
      "text/plain": [
       "(13559, 10)"
      ]
     },
     "execution_count": 7,
     "metadata": {},
     "output_type": "execute_result"
    }
   ],
   "source": [
    "df.shape"
   ]
  },
  {
   "cell_type": "code",
   "execution_count": 8,
   "metadata": {},
   "outputs": [
    {
     "name": "stdout",
     "output_type": "stream",
     "text": [
      "For n_clusters = 2  ,the average silhouette_score is : 0.998530826004332\n",
      "For n_clusters = 3  ,the average silhouette_score is : 0.9985828970837699\n",
      "For n_clusters = 4  ,the average silhouette_score is : 0.9986349759955215\n",
      "For n_clusters = 5  ,the average silhouette_score is : 0.9986870626427595\n",
      "For n_clusters = 6  ,the average silhouette_score is : 0.9987390943539093\n",
      "For n_clusters = 7  ,the average silhouette_score is : 0.9987912039394923\n",
      "For n_clusters = 8  ,the average silhouette_score is : 0.9988430051295847\n",
      "For n_clusters = 9  ,the average silhouette_score is : 0.998894090873627\n",
      "For n_clusters = 10  ,the average silhouette_score is : 0.9989388002077398\n",
      "For n_clusters = 11  ,the average silhouette_score is : 0.9989833504107337\n",
      "For n_clusters = 12  ,the average silhouette_score is : 0.9967609961599749\n",
      "For n_clusters = 13  ,the average silhouette_score is : 0.9958752228438815\n",
      "For n_clusters = 14  ,the average silhouette_score is : 0.995946610402437\n",
      "For n_clusters = 15  ,the average silhouette_score is : 0.9940155520789772\n",
      "For n_clusters = 16  ,the average silhouette_score is : 0.9945583440549801\n",
      "For n_clusters = 17  ,the average silhouette_score is : 0.9934486212509115\n",
      "For n_clusters = 18  ,the average silhouette_score is : 0.9924928585848072\n",
      "For n_clusters = 19  ,the average silhouette_score is : 0.9925748386160695\n",
      "For n_clusters = 20  ,the average silhouette_score is : 0.9923126473337732\n"
     ]
    }
   ],
   "source": [
    "import numpy as np\n",
    "from sklearn import metrics\n",
    "from sklearn.cluster import KMeans\n",
    "from sklearn.metrics import silhouette_score\n",
    "\n",
    "\n",
    "n_clusters=np.arange(2,21)\n",
    "silhouette=[]\n",
    "for n_clusters in n_clusters:\n",
    "    clusterer = KMeans(n_clusters=n_clusters, random_state=0)\n",
    "    cluster_labels = clusterer.fit_predict(df)\n",
    "    silhouette_avg = silhouette_score(df, cluster_labels,metric='euclidean')\n",
    "    print(\"For n_clusters =\", n_clusters,\n",
    "          \" ,the average silhouette_score is :\", silhouette_avg,)\n",
    "    silhouette.append(silhouette_avg)"
   ]
  },
  {
   "cell_type": "code",
   "execution_count": 9,
   "metadata": {},
   "outputs": [
    {
     "data": {
      "text/plain": [
       "Text(0, 0.5, 'Silhouette scores')"
      ]
     },
     "execution_count": 9,
     "metadata": {},
     "output_type": "execute_result"
    },
    {
     "data": {
      "image/png": "[encoded data removed]",
      "text/plain": [
       "<Figure size 576x576 with 1 Axes>"
      ]
     },
     "metadata": {
      "needs_background": "light"
     },
     "output_type": "display_data"
    }
   ],
   "source": [
    "import matplotlib.pyplot as plt\n",
    "plt.figure(figsize=(8,8))\n",
    "plt.plot(silhouette, 'ro')\n",
    "plt.xlabel(\"Number of clusters\")\n",
    "plt.ylabel(\"Silhouette scores\")"
   ]
  },
  {
   "cell_type": "markdown",
   "metadata": {},
   "source": [
    "It seems that from 2 clusters to 20 clusters, no matter what number we pick, the silhouette score would be close to 1. It peaks at N=11."
   ]
  },
  {
   "cell_type": "markdown",
   "metadata": {},
   "source": [
    "Let's validate that on the validation data."
   ]
  },
  {
   "cell_type": "code",
   "execution_count": 10,
   "metadata": {},
   "outputs": [
    {
     "data": {
      "text/html": [
       "<div>\n",
       "<style scoped>\n",
       "    .dataframe tbody tr th:only-of-type {\n",
       "        vertical-align: middle;\n",
       "    }\n",
       "\n",
       "    .dataframe tbody tr th {\n",
       "        vertical-align: top;\n",
       "    }\n",
       "\n",
       "    .dataframe thead th {\n",
       "        text-align: right;\n",
       "    }\n",
       "</style>\n",
       "<table border=\"1\" class=\"dataframe\">\n",
       "  <thead>\n",
       "    <tr style=\"text-align: right;\">\n",
       "      <th></th>\n",
       "      <th>0</th>\n",
       "      <th>1</th>\n",
       "      <th>2</th>\n",
       "    </tr>\n",
       "  </thead>\n",
       "  <tbody>\n",
       "    <tr>\n",
       "      <th>0</th>\n",
       "      <td>1</td>\n",
       "      <td>1</td>\n",
       "      <td>1</td>\n",
       "    </tr>\n",
       "    <tr>\n",
       "      <th>1</th>\n",
       "      <td>1</td>\n",
       "      <td>182</td>\n",
       "      <td>2</td>\n",
       "    </tr>\n",
       "    <tr>\n",
       "      <th>2</th>\n",
       "      <td>1</td>\n",
       "      <td>443</td>\n",
       "      <td>1</td>\n",
       "    </tr>\n",
       "    <tr>\n",
       "      <th>3</th>\n",
       "      <td>1</td>\n",
       "      <td>1243</td>\n",
       "      <td>1</td>\n",
       "    </tr>\n",
       "    <tr>\n",
       "      <th>4</th>\n",
       "      <td>1</td>\n",
       "      <td>1452</td>\n",
       "      <td>1</td>\n",
       "    </tr>\n",
       "  </tbody>\n",
       "</table>\n",
       "</div>"
      ],
      "text/plain": [
       "   0     1  2\n",
       "0  1     1  1\n",
       "1  1   182  2\n",
       "2  1   443  1\n",
       "3  1  1243  1\n",
       "4  1  1452  1"
      ]
     },
     "execution_count": 10,
     "metadata": {},
     "output_type": "execute_result"
    }
   ],
   "source": [
    "url=\"https://bd29ee0e-54ab-4daa-9671-d153865d1620.usrfiles.com/ugd/bd29ee_82cef6e2e568402982025f7b5086440b.csv\"\n",
    "validation=pd.read_csv(url,header=None)\n",
    "validation.head()"
   ]
  },
  {
   "cell_type": "code",
   "execution_count": 11,
   "metadata": {},
   "outputs": [
    {
     "data": {
      "text/plain": [
       "array([[0, 0, 0, ..., 0, 0, 0],\n",
       "       [0, 1, 0, ..., 0, 0, 0],\n",
       "       [0, 0, 0, ..., 0, 0, 0],\n",
       "       ...,\n",
       "       [0, 0, 0, ..., 0, 0, 0],\n",
       "       [0, 0, 0, ..., 0, 0, 0],\n",
       "       [0, 0, 0, ..., 0, 0, 0]], dtype=int64)"
      ]
     },
     "execution_count": 11,
     "metadata": {},
     "output_type": "execute_result"
    }
   ],
   "source": [
    "row=np.asarray(validation.iloc[:,0])\n",
    "column=np.asarray(validation.iloc[:,1])\n",
    "data=np.asarray(validation.iloc[:,2])\n",
    "coo=coo_matrix((data, (row, column))).toarray()\n",
    "coo"
   ]
  },
  {
   "cell_type": "code",
   "execution_count": 12,
   "metadata": {},
   "outputs": [
    {
     "data": {
      "text/html": [
       "<div>\n",
       "<style scoped>\n",
       "    .dataframe tbody tr th:only-of-type {\n",
       "        vertical-align: middle;\n",
       "    }\n",
       "\n",
       "    .dataframe tbody tr th {\n",
       "        vertical-align: top;\n",
       "    }\n",
       "\n",
       "    .dataframe thead th {\n",
       "        text-align: right;\n",
       "    }\n",
       "</style>\n",
       "<table border=\"1\" class=\"dataframe\">\n",
       "  <thead>\n",
       "    <tr style=\"text-align: right;\">\n",
       "      <th></th>\n",
       "      <th>0</th>\n",
       "      <th>1</th>\n",
       "      <th>2</th>\n",
       "      <th>3</th>\n",
       "      <th>4</th>\n",
       "      <th>5</th>\n",
       "      <th>6</th>\n",
       "      <th>7</th>\n",
       "      <th>8</th>\n",
       "      <th>9</th>\n",
       "      <th>...</th>\n",
       "      <th>11337</th>\n",
       "      <th>11338</th>\n",
       "      <th>11339</th>\n",
       "      <th>11340</th>\n",
       "      <th>11341</th>\n",
       "      <th>11342</th>\n",
       "      <th>11343</th>\n",
       "      <th>11344</th>\n",
       "      <th>11345</th>\n",
       "      <th>11346</th>\n",
       "    </tr>\n",
       "  </thead>\n",
       "  <tbody>\n",
       "    <tr>\n",
       "      <th>0</th>\n",
       "      <td>0</td>\n",
       "      <td>0</td>\n",
       "      <td>0</td>\n",
       "      <td>0</td>\n",
       "      <td>0</td>\n",
       "      <td>0</td>\n",
       "      <td>0</td>\n",
       "      <td>0</td>\n",
       "      <td>0</td>\n",
       "      <td>0</td>\n",
       "      <td>...</td>\n",
       "      <td>0</td>\n",
       "      <td>0</td>\n",
       "      <td>0</td>\n",
       "      <td>0</td>\n",
       "      <td>0</td>\n",
       "      <td>0</td>\n",
       "      <td>0</td>\n",
       "      <td>0</td>\n",
       "      <td>0</td>\n",
       "      <td>0</td>\n",
       "    </tr>\n",
       "    <tr>\n",
       "      <th>1</th>\n",
       "      <td>0</td>\n",
       "      <td>1</td>\n",
       "      <td>0</td>\n",
       "      <td>0</td>\n",
       "      <td>0</td>\n",
       "      <td>0</td>\n",
       "      <td>0</td>\n",
       "      <td>0</td>\n",
       "      <td>0</td>\n",
       "      <td>0</td>\n",
       "      <td>...</td>\n",
       "      <td>0</td>\n",
       "      <td>0</td>\n",
       "      <td>0</td>\n",
       "      <td>0</td>\n",
       "      <td>0</td>\n",
       "      <td>0</td>\n",
       "      <td>0</td>\n",
       "      <td>0</td>\n",
       "      <td>0</td>\n",
       "      <td>0</td>\n",
       "    </tr>\n",
       "    <tr>\n",
       "      <th>2</th>\n",
       "      <td>0</td>\n",
       "      <td>0</td>\n",
       "      <td>0</td>\n",
       "      <td>0</td>\n",
       "      <td>0</td>\n",
       "      <td>0</td>\n",
       "      <td>0</td>\n",
       "      <td>0</td>\n",
       "      <td>0</td>\n",
       "      <td>0</td>\n",
       "      <td>...</td>\n",
       "      <td>0</td>\n",
       "      <td>0</td>\n",
       "      <td>0</td>\n",
       "      <td>0</td>\n",
       "      <td>0</td>\n",
       "      <td>0</td>\n",
       "      <td>0</td>\n",
       "      <td>0</td>\n",
       "      <td>0</td>\n",
       "      <td>0</td>\n",
       "    </tr>\n",
       "    <tr>\n",
       "      <th>3</th>\n",
       "      <td>0</td>\n",
       "      <td>0</td>\n",
       "      <td>0</td>\n",
       "      <td>0</td>\n",
       "      <td>0</td>\n",
       "      <td>0</td>\n",
       "      <td>0</td>\n",
       "      <td>0</td>\n",
       "      <td>0</td>\n",
       "      <td>0</td>\n",
       "      <td>...</td>\n",
       "      <td>0</td>\n",
       "      <td>0</td>\n",
       "      <td>0</td>\n",
       "      <td>0</td>\n",
       "      <td>0</td>\n",
       "      <td>0</td>\n",
       "      <td>0</td>\n",
       "      <td>0</td>\n",
       "      <td>0</td>\n",
       "      <td>0</td>\n",
       "    </tr>\n",
       "    <tr>\n",
       "      <th>4</th>\n",
       "      <td>0</td>\n",
       "      <td>0</td>\n",
       "      <td>0</td>\n",
       "      <td>0</td>\n",
       "      <td>1</td>\n",
       "      <td>0</td>\n",
       "      <td>0</td>\n",
       "      <td>0</td>\n",
       "      <td>0</td>\n",
       "      <td>0</td>\n",
       "      <td>...</td>\n",
       "      <td>0</td>\n",
       "      <td>0</td>\n",
       "      <td>0</td>\n",
       "      <td>0</td>\n",
       "      <td>0</td>\n",
       "      <td>0</td>\n",
       "      <td>0</td>\n",
       "      <td>0</td>\n",
       "      <td>0</td>\n",
       "      <td>0</td>\n",
       "    </tr>\n",
       "  </tbody>\n",
       "</table>\n",
       "<p>5 rows × 11347 columns</p>\n",
       "</div>"
      ],
      "text/plain": [
       "   0      1      2      3      4      5      6      7      8      9      ...  \\\n",
       "0      0      0      0      0      0      0      0      0      0      0  ...   \n",
       "1      0      1      0      0      0      0      0      0      0      0  ...   \n",
       "2      0      0      0      0      0      0      0      0      0      0  ...   \n",
       "3      0      0      0      0      0      0      0      0      0      0  ...   \n",
       "4      0      0      0      0      1      0      0      0      0      0  ...   \n",
       "\n",
       "   11337  11338  11339  11340  11341  11342  11343  11344  11345  11346  \n",
       "0      0      0      0      0      0      0      0      0      0      0  \n",
       "1      0      0      0      0      0      0      0      0      0      0  \n",
       "2      0      0      0      0      0      0      0      0      0      0  \n",
       "3      0      0      0      0      0      0      0      0      0      0  \n",
       "4      0      0      0      0      0      0      0      0      0      0  \n",
       "\n",
       "[5 rows x 11347 columns]"
      ]
     },
     "execution_count": 12,
     "metadata": {},
     "output_type": "execute_result"
    }
   ],
   "source": [
    "validation=pd.DataFrame(coo)\n",
    "validation.head()"
   ]
  },
  {
   "cell_type": "code",
   "execution_count": 13,
   "metadata": {},
   "outputs": [
    {
     "data": {
      "text/plain": [
       "(13559, 11347)"
      ]
     },
     "execution_count": 13,
     "metadata": {},
     "output_type": "execute_result"
    }
   ],
   "source": [
    "validation.shape"
   ]
  },
  {
   "cell_type": "code",
   "execution_count": 14,
   "metadata": {},
   "outputs": [
    {
     "data": {
      "text/html": [
       "<div>\n",
       "<style scoped>\n",
       "    .dataframe tbody tr th:only-of-type {\n",
       "        vertical-align: middle;\n",
       "    }\n",
       "\n",
       "    .dataframe tbody tr th {\n",
       "        vertical-align: top;\n",
       "    }\n",
       "\n",
       "    .dataframe thead th {\n",
       "        text-align: right;\n",
       "    }\n",
       "</style>\n",
       "<table border=\"1\" class=\"dataframe\">\n",
       "  <thead>\n",
       "    <tr style=\"text-align: right;\">\n",
       "      <th></th>\n",
       "      <th>0</th>\n",
       "      <th>1</th>\n",
       "      <th>2</th>\n",
       "      <th>3</th>\n",
       "      <th>4</th>\n",
       "      <th>5</th>\n",
       "      <th>6</th>\n",
       "      <th>7</th>\n",
       "      <th>8</th>\n",
       "      <th>9</th>\n",
       "    </tr>\n",
       "  </thead>\n",
       "  <tbody>\n",
       "    <tr>\n",
       "      <th>0</th>\n",
       "      <td>-0.008550</td>\n",
       "      <td>-0.009321</td>\n",
       "      <td>-0.008567</td>\n",
       "      <td>-0.018091</td>\n",
       "      <td>-0.008507</td>\n",
       "      <td>-0.008536</td>\n",
       "      <td>-0.008140</td>\n",
       "      <td>-0.173709</td>\n",
       "      <td>-0.009613</td>\n",
       "      <td>-0.008860</td>\n",
       "    </tr>\n",
       "    <tr>\n",
       "      <th>1</th>\n",
       "      <td>-0.008552</td>\n",
       "      <td>-0.009324</td>\n",
       "      <td>-0.008570</td>\n",
       "      <td>-0.018099</td>\n",
       "      <td>-0.008514</td>\n",
       "      <td>-0.008548</td>\n",
       "      <td>-0.008155</td>\n",
       "      <td>-0.174161</td>\n",
       "      <td>-0.009742</td>\n",
       "      <td>-0.009086</td>\n",
       "    </tr>\n",
       "    <tr>\n",
       "      <th>2</th>\n",
       "      <td>-0.008637</td>\n",
       "      <td>-0.009442</td>\n",
       "      <td>-0.008681</td>\n",
       "      <td>-0.018421</td>\n",
       "      <td>-0.008756</td>\n",
       "      <td>-0.009099</td>\n",
       "      <td>-0.008850</td>\n",
       "      <td>-0.139653</td>\n",
       "      <td>-0.011625</td>\n",
       "      <td>-0.011869</td>\n",
       "    </tr>\n",
       "    <tr>\n",
       "      <th>3</th>\n",
       "      <td>-0.008591</td>\n",
       "      <td>-0.009377</td>\n",
       "      <td>-0.008621</td>\n",
       "      <td>-0.018245</td>\n",
       "      <td>-0.008620</td>\n",
       "      <td>-0.008793</td>\n",
       "      <td>-0.008450</td>\n",
       "      <td>-0.174851</td>\n",
       "      <td>-0.010503</td>\n",
       "      <td>-0.009984</td>\n",
       "    </tr>\n",
       "    <tr>\n",
       "      <th>4</th>\n",
       "      <td>-0.008550</td>\n",
       "      <td>-0.009321</td>\n",
       "      <td>-0.008567</td>\n",
       "      <td>-0.018091</td>\n",
       "      <td>-0.008507</td>\n",
       "      <td>-0.008536</td>\n",
       "      <td>-0.008141</td>\n",
       "      <td>-0.173714</td>\n",
       "      <td>-0.009613</td>\n",
       "      <td>-0.008860</td>\n",
       "    </tr>\n",
       "  </tbody>\n",
       "</table>\n",
       "</div>"
      ],
      "text/plain": [
       "          0         1         2         3         4         5         6  \\\n",
       "0 -0.008550 -0.009321 -0.008567 -0.018091 -0.008507 -0.008536 -0.008140   \n",
       "1 -0.008552 -0.009324 -0.008570 -0.018099 -0.008514 -0.008548 -0.008155   \n",
       "2 -0.008637 -0.009442 -0.008681 -0.018421 -0.008756 -0.009099 -0.008850   \n",
       "3 -0.008591 -0.009377 -0.008621 -0.018245 -0.008620 -0.008793 -0.008450   \n",
       "4 -0.008550 -0.009321 -0.008567 -0.018091 -0.008507 -0.008536 -0.008141   \n",
       "\n",
       "          7         8         9  \n",
       "0 -0.173709 -0.009613 -0.008860  \n",
       "1 -0.174161 -0.009742 -0.009086  \n",
       "2 -0.139653 -0.011625 -0.011869  \n",
       "3 -0.174851 -0.010503 -0.009984  \n",
       "4 -0.173714 -0.009613 -0.008860  "
      ]
     },
     "execution_count": 14,
     "metadata": {},
     "output_type": "execute_result"
    }
   ],
   "source": [
    "n_components=10\n",
    "transformer = IncrementalPCA(n_components=n_components,whiten=True, batch_size=200)\n",
    "validation=pd.DataFrame(transformer.fit_transform(validation))\n",
    "validation.head()"
   ]
  },
  {
   "cell_type": "code",
   "execution_count": 15,
   "metadata": {},
   "outputs": [
    {
     "data": {
      "text/plain": [
       "(13559, 10)"
      ]
     },
     "execution_count": 15,
     "metadata": {},
     "output_type": "execute_result"
    }
   ],
   "source": [
    "validation.shape"
   ]
  },
  {
   "cell_type": "code",
   "execution_count": 16,
   "metadata": {},
   "outputs": [
    {
     "name": "stdout",
     "output_type": "stream",
     "text": [
      "For n_clusters = 2  ,the average silhouette_score is : 0.9959387971723399\n",
      "For n_clusters = 3  ,the average silhouette_score is : 0.9959906773604055\n",
      "For n_clusters = 4  ,the average silhouette_score is : 0.9960425515042804\n",
      "For n_clusters = 5  ,the average silhouette_score is : 0.9960944204520579\n",
      "For n_clusters = 6  ,the average silhouette_score is : 0.9961463300664268\n",
      "For n_clusters = 7  ,the average silhouette_score is : 0.996198228574285\n",
      "For n_clusters = 8  ,the average silhouette_score is : 0.9962489368028655\n",
      "For n_clusters = 9  ,the average silhouette_score is : 0.9963002563239\n",
      "For n_clusters = 10  ,the average silhouette_score is : 0.9962066987865656\n",
      "For n_clusters = 11  ,the average silhouette_score is : 0.9650498382692841\n",
      "For n_clusters = 12  ,the average silhouette_score is : 0.9459980833530263\n",
      "For n_clusters = 13  ,the average silhouette_score is : 0.9218927662670371\n",
      "For n_clusters = 14  ,the average silhouette_score is : 0.9252533654410519\n",
      "For n_clusters = 15  ,the average silhouette_score is : 0.9132901580719444\n",
      "For n_clusters = 16  ,the average silhouette_score is : 0.9137358416654058\n",
      "For n_clusters = 17  ,the average silhouette_score is : 0.9112677105495844\n",
      "For n_clusters = 18  ,the average silhouette_score is : 0.926350528045192\n",
      "For n_clusters = 19  ,the average silhouette_score is : 0.9273401930052726\n",
      "For n_clusters = 20  ,the average silhouette_score is : 0.9282596219408887\n"
     ]
    }
   ],
   "source": [
    "n_clusters=np.arange(2,21)\n",
    "silhouette=[]\n",
    "for n_clusters in n_clusters:\n",
    "    clusterer = KMeans(n_clusters=n_clusters, random_state=0)\n",
    "    cluster_labels = clusterer.fit_predict(validation)\n",
    "    silhouette_avg = silhouette_score(validation, cluster_labels,metric='euclidean')\n",
    "    print(\"For n_clusters =\", n_clusters,\n",
    "          \" ,the average silhouette_score is :\", silhouette_avg,)\n",
    "    silhouette.append(silhouette_avg)"
   ]
  },
  {
   "cell_type": "code",
   "execution_count": 17,
   "metadata": {},
   "outputs": [
    {
     "data": {
      "text/plain": [
       "Text(0, 0.5, 'Silhouette scores')"
      ]
     },
     "execution_count": 17,
     "metadata": {},
     "output_type": "execute_result"
    },
    {
     "data": {
      "image/png": "[encoded data removed]",
      "text/plain": [
       "<Figure size 576x576 with 1 Axes>"
      ]
     },
     "metadata": {
      "needs_background": "light"
     },
     "output_type": "display_data"
    }
   ],
   "source": [
    "plt.figure(figsize=(8,8))\n",
    "plt.plot(silhouette, 'ro')\n",
    "plt.xlabel(\"Number of clusters\")\n",
    "plt.ylabel(\"Silhouette scores\")"
   ]
  },
  {
   "cell_type": "markdown",
   "metadata": {},
   "source": [
    "For the validation data, for N equal to or smaller than 10, silhouette score will be close to 1, but it peaks at N=9."
   ]
  },
  {
   "cell_type": "markdown",
   "metadata": {},
   "source": [
    "Let's test it on the test data."
   ]
  },
  {
   "cell_type": "code",
   "execution_count": 3,
   "metadata": {},
   "outputs": [
    {
     "data": {
      "text/html": [
       "<div>\n",
       "<style scoped>\n",
       "    .dataframe tbody tr th:only-of-type {\n",
       "        vertical-align: middle;\n",
       "    }\n",
       "\n",
       "    .dataframe tbody tr th {\n",
       "        vertical-align: top;\n",
       "    }\n",
       "\n",
       "    .dataframe thead th {\n",
       "        text-align: right;\n",
       "    }\n",
       "</style>\n",
       "<table border=\"1\" class=\"dataframe\">\n",
       "  <thead>\n",
       "    <tr style=\"text-align: right;\">\n",
       "      <th></th>\n",
       "      <th>0</th>\n",
       "      <th>1</th>\n",
       "      <th>2</th>\n",
       "    </tr>\n",
       "  </thead>\n",
       "  <tbody>\n",
       "    <tr>\n",
       "      <th>0</th>\n",
       "      <td>1</td>\n",
       "      <td>1287</td>\n",
       "      <td>2</td>\n",
       "    </tr>\n",
       "    <tr>\n",
       "      <th>1</th>\n",
       "      <td>1</td>\n",
       "      <td>1352</td>\n",
       "      <td>1</td>\n",
       "    </tr>\n",
       "    <tr>\n",
       "      <th>2</th>\n",
       "      <td>1</td>\n",
       "      <td>6948</td>\n",
       "      <td>1</td>\n",
       "    </tr>\n",
       "    <tr>\n",
       "      <th>3</th>\n",
       "      <td>1</td>\n",
       "      <td>8709</td>\n",
       "      <td>1</td>\n",
       "    </tr>\n",
       "    <tr>\n",
       "      <th>4</th>\n",
       "      <td>1</td>\n",
       "      <td>9894</td>\n",
       "      <td>1</td>\n",
       "    </tr>\n",
       "  </tbody>\n",
       "</table>\n",
       "</div>"
      ],
      "text/plain": [
       "   0     1  2\n",
       "0  1  1287  2\n",
       "1  1  1352  1\n",
       "2  1  6948  1\n",
       "3  1  8709  1\n",
       "4  1  9894  1"
      ]
     },
     "execution_count": 3,
     "metadata": {},
     "output_type": "execute_result"
    }
   ],
   "source": [
    "import pandas as pd\n",
    "url=\"https://bd29ee0e-54ab-4daa-9671-d153865d1620.usrfiles.com/ugd/bd29ee_93967d72bd6e467ea0a2308139b70b04.csv\"\n",
    "test=pd.read_csv(url,header=None)\n",
    "test.head()"
   ]
  },
  {
   "cell_type": "code",
   "execution_count": 4,
   "metadata": {},
   "outputs": [
    {
     "data": {
      "text/plain": [
       "array([[0, 0, 0, ..., 0, 0, 0],\n",
       "       [0, 0, 0, ..., 0, 0, 0],\n",
       "       [0, 0, 0, ..., 0, 0, 0],\n",
       "       ...,\n",
       "       [0, 0, 0, ..., 0, 0, 0],\n",
       "       [0, 0, 0, ..., 0, 0, 0],\n",
       "       [0, 0, 0, ..., 0, 0, 0]], dtype=int64)"
      ]
     },
     "execution_count": 4,
     "metadata": {},
     "output_type": "execute_result"
    }
   ],
   "source": [
    "import numpy as np\n",
    "from scipy.sparse import coo_matrix\n",
    "row=np.asarray(test.iloc[:,0])\n",
    "column=np.asarray(test.iloc[:,1])\n",
    "data=np.asarray(test.iloc[:,2])\n",
    "coo=coo_matrix((data, (row, column))).toarray()\n",
    "coo"
   ]
  },
  {
   "cell_type": "code",
   "execution_count": 5,
   "metadata": {},
   "outputs": [
    {
     "data": {
      "text/html": [
       "<div>\n",
       "<style scoped>\n",
       "    .dataframe tbody tr th:only-of-type {\n",
       "        vertical-align: middle;\n",
       "    }\n",
       "\n",
       "    .dataframe tbody tr th {\n",
       "        vertical-align: top;\n",
       "    }\n",
       "\n",
       "    .dataframe thead th {\n",
       "        text-align: right;\n",
       "    }\n",
       "</style>\n",
       "<table border=\"1\" class=\"dataframe\">\n",
       "  <thead>\n",
       "    <tr style=\"text-align: right;\">\n",
       "      <th></th>\n",
       "      <th>0</th>\n",
       "      <th>1</th>\n",
       "      <th>2</th>\n",
       "      <th>3</th>\n",
       "      <th>4</th>\n",
       "      <th>5</th>\n",
       "      <th>6</th>\n",
       "      <th>7</th>\n",
       "      <th>8</th>\n",
       "      <th>9</th>\n",
       "      <th>...</th>\n",
       "      <th>11337</th>\n",
       "      <th>11338</th>\n",
       "      <th>11339</th>\n",
       "      <th>11340</th>\n",
       "      <th>11341</th>\n",
       "      <th>11342</th>\n",
       "      <th>11343</th>\n",
       "      <th>11344</th>\n",
       "      <th>11345</th>\n",
       "      <th>11346</th>\n",
       "    </tr>\n",
       "  </thead>\n",
       "  <tbody>\n",
       "    <tr>\n",
       "      <th>0</th>\n",
       "      <td>0</td>\n",
       "      <td>0</td>\n",
       "      <td>0</td>\n",
       "      <td>0</td>\n",
       "      <td>0</td>\n",
       "      <td>0</td>\n",
       "      <td>0</td>\n",
       "      <td>0</td>\n",
       "      <td>0</td>\n",
       "      <td>0</td>\n",
       "      <td>...</td>\n",
       "      <td>0</td>\n",
       "      <td>0</td>\n",
       "      <td>0</td>\n",
       "      <td>0</td>\n",
       "      <td>0</td>\n",
       "      <td>0</td>\n",
       "      <td>0</td>\n",
       "      <td>0</td>\n",
       "      <td>0</td>\n",
       "      <td>0</td>\n",
       "    </tr>\n",
       "    <tr>\n",
       "      <th>1</th>\n",
       "      <td>0</td>\n",
       "      <td>0</td>\n",
       "      <td>0</td>\n",
       "      <td>0</td>\n",
       "      <td>0</td>\n",
       "      <td>0</td>\n",
       "      <td>0</td>\n",
       "      <td>0</td>\n",
       "      <td>0</td>\n",
       "      <td>0</td>\n",
       "      <td>...</td>\n",
       "      <td>0</td>\n",
       "      <td>0</td>\n",
       "      <td>0</td>\n",
       "      <td>0</td>\n",
       "      <td>0</td>\n",
       "      <td>0</td>\n",
       "      <td>0</td>\n",
       "      <td>0</td>\n",
       "      <td>0</td>\n",
       "      <td>0</td>\n",
       "    </tr>\n",
       "    <tr>\n",
       "      <th>2</th>\n",
       "      <td>0</td>\n",
       "      <td>0</td>\n",
       "      <td>0</td>\n",
       "      <td>0</td>\n",
       "      <td>0</td>\n",
       "      <td>0</td>\n",
       "      <td>0</td>\n",
       "      <td>0</td>\n",
       "      <td>0</td>\n",
       "      <td>0</td>\n",
       "      <td>...</td>\n",
       "      <td>0</td>\n",
       "      <td>0</td>\n",
       "      <td>0</td>\n",
       "      <td>0</td>\n",
       "      <td>0</td>\n",
       "      <td>0</td>\n",
       "      <td>0</td>\n",
       "      <td>0</td>\n",
       "      <td>0</td>\n",
       "      <td>0</td>\n",
       "    </tr>\n",
       "    <tr>\n",
       "      <th>3</th>\n",
       "      <td>0</td>\n",
       "      <td>0</td>\n",
       "      <td>0</td>\n",
       "      <td>0</td>\n",
       "      <td>0</td>\n",
       "      <td>0</td>\n",
       "      <td>0</td>\n",
       "      <td>0</td>\n",
       "      <td>0</td>\n",
       "      <td>0</td>\n",
       "      <td>...</td>\n",
       "      <td>0</td>\n",
       "      <td>0</td>\n",
       "      <td>0</td>\n",
       "      <td>0</td>\n",
       "      <td>0</td>\n",
       "      <td>0</td>\n",
       "      <td>0</td>\n",
       "      <td>0</td>\n",
       "      <td>0</td>\n",
       "      <td>0</td>\n",
       "    </tr>\n",
       "    <tr>\n",
       "      <th>4</th>\n",
       "      <td>0</td>\n",
       "      <td>0</td>\n",
       "      <td>0</td>\n",
       "      <td>0</td>\n",
       "      <td>1</td>\n",
       "      <td>0</td>\n",
       "      <td>0</td>\n",
       "      <td>0</td>\n",
       "      <td>0</td>\n",
       "      <td>0</td>\n",
       "      <td>...</td>\n",
       "      <td>0</td>\n",
       "      <td>0</td>\n",
       "      <td>0</td>\n",
       "      <td>0</td>\n",
       "      <td>0</td>\n",
       "      <td>0</td>\n",
       "      <td>0</td>\n",
       "      <td>0</td>\n",
       "      <td>0</td>\n",
       "      <td>0</td>\n",
       "    </tr>\n",
       "  </tbody>\n",
       "</table>\n",
       "<p>5 rows × 11347 columns</p>\n",
       "</div>"
      ],
      "text/plain": [
       "   0      1      2      3      4      5      6      7      8      9      ...  \\\n",
       "0      0      0      0      0      0      0      0      0      0      0  ...   \n",
       "1      0      0      0      0      0      0      0      0      0      0  ...   \n",
       "2      0      0      0      0      0      0      0      0      0      0  ...   \n",
       "3      0      0      0      0      0      0      0      0      0      0  ...   \n",
       "4      0      0      0      0      1      0      0      0      0      0  ...   \n",
       "\n",
       "   11337  11338  11339  11340  11341  11342  11343  11344  11345  11346  \n",
       "0      0      0      0      0      0      0      0      0      0      0  \n",
       "1      0      0      0      0      0      0      0      0      0      0  \n",
       "2      0      0      0      0      0      0      0      0      0      0  \n",
       "3      0      0      0      0      0      0      0      0      0      0  \n",
       "4      0      0      0      0      0      0      0      0      0      0  \n",
       "\n",
       "[5 rows x 11347 columns]"
      ]
     },
     "execution_count": 5,
     "metadata": {},
     "output_type": "execute_result"
    }
   ],
   "source": [
    "test=pd.DataFrame(coo)\n",
    "test.head()"
   ]
  },
  {
   "cell_type": "code",
   "execution_count": 6,
   "metadata": {},
   "outputs": [
    {
     "data": {
      "text/plain": [
       "(13559, 11347)"
      ]
     },
     "execution_count": 6,
     "metadata": {},
     "output_type": "execute_result"
    }
   ],
   "source": [
    "test.shape"
   ]
  },
  {
   "cell_type": "code",
   "execution_count": 8,
   "metadata": {},
   "outputs": [
    {
     "data": {
      "text/html": [
       "<div>\n",
       "<style scoped>\n",
       "    .dataframe tbody tr th:only-of-type {\n",
       "        vertical-align: middle;\n",
       "    }\n",
       "\n",
       "    .dataframe tbody tr th {\n",
       "        vertical-align: top;\n",
       "    }\n",
       "\n",
       "    .dataframe thead th {\n",
       "        text-align: right;\n",
       "    }\n",
       "</style>\n",
       "<table border=\"1\" class=\"dataframe\">\n",
       "  <thead>\n",
       "    <tr style=\"text-align: right;\">\n",
       "      <th></th>\n",
       "      <th>0</th>\n",
       "      <th>1</th>\n",
       "      <th>2</th>\n",
       "      <th>3</th>\n",
       "      <th>4</th>\n",
       "      <th>5</th>\n",
       "      <th>6</th>\n",
       "      <th>7</th>\n",
       "      <th>8</th>\n",
       "      <th>9</th>\n",
       "    </tr>\n",
       "  </thead>\n",
       "  <tbody>\n",
       "    <tr>\n",
       "      <th>0</th>\n",
       "      <td>-0.008581</td>\n",
       "      <td>-0.008434</td>\n",
       "      <td>0.024287</td>\n",
       "      <td>-0.124305</td>\n",
       "      <td>-0.013024</td>\n",
       "      <td>-0.010234</td>\n",
       "      <td>-0.009133</td>\n",
       "      <td>-0.008769</td>\n",
       "      <td>-0.008109</td>\n",
       "      <td>-0.009704</td>\n",
       "    </tr>\n",
       "    <tr>\n",
       "      <th>1</th>\n",
       "      <td>-0.008583</td>\n",
       "      <td>-0.008464</td>\n",
       "      <td>0.024441</td>\n",
       "      <td>-0.125156</td>\n",
       "      <td>-0.013125</td>\n",
       "      <td>-0.010304</td>\n",
       "      <td>-0.009233</td>\n",
       "      <td>-0.008908</td>\n",
       "      <td>-0.008588</td>\n",
       "      <td>-0.010269</td>\n",
       "    </tr>\n",
       "    <tr>\n",
       "      <th>2</th>\n",
       "      <td>-0.008615</td>\n",
       "      <td>-0.008860</td>\n",
       "      <td>0.025153</td>\n",
       "      <td>-0.133309</td>\n",
       "      <td>-0.014175</td>\n",
       "      <td>-0.011231</td>\n",
       "      <td>-0.010248</td>\n",
       "      <td>-0.010869</td>\n",
       "      <td>-0.011046</td>\n",
       "      <td>-0.013601</td>\n",
       "    </tr>\n",
       "    <tr>\n",
       "      <th>3</th>\n",
       "      <td>-0.008590</td>\n",
       "      <td>-0.008544</td>\n",
       "      <td>0.024260</td>\n",
       "      <td>-0.126015</td>\n",
       "      <td>-0.013314</td>\n",
       "      <td>-0.010495</td>\n",
       "      <td>-0.009435</td>\n",
       "      <td>-0.009350</td>\n",
       "      <td>-0.008931</td>\n",
       "      <td>-0.010675</td>\n",
       "    </tr>\n",
       "    <tr>\n",
       "      <th>4</th>\n",
       "      <td>-0.008581</td>\n",
       "      <td>-0.008435</td>\n",
       "      <td>0.024291</td>\n",
       "      <td>-0.124323</td>\n",
       "      <td>-0.013026</td>\n",
       "      <td>-0.010236</td>\n",
       "      <td>-0.009135</td>\n",
       "      <td>-0.008773</td>\n",
       "      <td>-0.008114</td>\n",
       "      <td>-0.009709</td>\n",
       "    </tr>\n",
       "  </tbody>\n",
       "</table>\n",
       "</div>"
      ],
      "text/plain": [
       "          0         1         2         3         4         5         6  \\\n",
       "0 -0.008581 -0.008434  0.024287 -0.124305 -0.013024 -0.010234 -0.009133   \n",
       "1 -0.008583 -0.008464  0.024441 -0.125156 -0.013125 -0.010304 -0.009233   \n",
       "2 -0.008615 -0.008860  0.025153 -0.133309 -0.014175 -0.011231 -0.010248   \n",
       "3 -0.008590 -0.008544  0.024260 -0.126015 -0.013314 -0.010495 -0.009435   \n",
       "4 -0.008581 -0.008435  0.024291 -0.124323 -0.013026 -0.010236 -0.009135   \n",
       "\n",
       "          7         8         9  \n",
       "0 -0.008769 -0.008109 -0.009704  \n",
       "1 -0.008908 -0.008588 -0.010269  \n",
       "2 -0.010869 -0.011046 -0.013601  \n",
       "3 -0.009350 -0.008931 -0.010675  \n",
       "4 -0.008773 -0.008114 -0.009709  "
      ]
     },
     "execution_count": 8,
     "metadata": {},
     "output_type": "execute_result"
    }
   ],
   "source": [
    "from sklearn.decomposition import IncrementalPCA\n",
    "n_components=10\n",
    "transformer = IncrementalPCA(n_components=n_components,whiten=True, batch_size=200)\n",
    "test=pd.DataFrame(transformer.fit_transform(test))\n",
    "test.head()"
   ]
  },
  {
   "cell_type": "code",
   "execution_count": 10,
   "metadata": {},
   "outputs": [
    {
     "name": "stdout",
     "output_type": "stream",
     "text": [
      "For n_clusters = 2  ,the average silhouette_score is : 0.9964895918257768\n",
      "For n_clusters = 3  ,the average silhouette_score is : 0.9965415114665822\n",
      "For n_clusters = 4  ,the average silhouette_score is : 0.9965934391317414\n",
      "For n_clusters = 5  ,the average silhouette_score is : 0.9966453700260015\n",
      "For n_clusters = 6  ,the average silhouette_score is : 0.9966972305251254\n",
      "For n_clusters = 7  ,the average silhouette_score is : 0.9967491841971161\n",
      "For n_clusters = 8  ,the average silhouette_score is : 0.9968010166196589\n",
      "For n_clusters = 9  ,the average silhouette_score is : 0.9968526374165547\n",
      "For n_clusters = 10  ,the average silhouette_score is : 0.9912671119065878\n",
      "For n_clusters = 11  ,the average silhouette_score is : 0.9783133474487797\n",
      "For n_clusters = 12  ,the average silhouette_score is : 0.9800453762279221\n",
      "For n_clusters = 13  ,the average silhouette_score is : 0.9734284563380178\n",
      "For n_clusters = 14  ,the average silhouette_score is : 0.9629198167976093\n",
      "For n_clusters = 15  ,the average silhouette_score is : 0.9707846178946189\n",
      "For n_clusters = 16  ,the average silhouette_score is : 0.9732837134119627\n",
      "For n_clusters = 17  ,the average silhouette_score is : 0.9736106293498741\n",
      "For n_clusters = 18  ,the average silhouette_score is : 0.9747930884496067\n",
      "For n_clusters = 19  ,the average silhouette_score is : 0.9756629748624087\n",
      "For n_clusters = 20  ,the average silhouette_score is : 0.9765990032354829\n"
     ]
    }
   ],
   "source": [
    "from sklearn import metrics\n",
    "from sklearn.cluster import KMeans\n",
    "from sklearn.metrics import silhouette_score\n",
    "\n",
    "n_clusters=np.arange(2,21)\n",
    "silhouette=[]\n",
    "for n_clusters in n_clusters:\n",
    "    clusterer = KMeans(n_clusters=n_clusters, random_state=0)\n",
    "    cluster_labels = clusterer.fit_predict(test)\n",
    "    silhouette_avg = silhouette_score(test, cluster_labels,metric='euclidean')\n",
    "    print(\"For n_clusters =\", n_clusters,\n",
    "          \" ,the average silhouette_score is :\", silhouette_avg,)\n",
    "    silhouette.append(silhouette_avg)"
   ]
  },
  {
   "cell_type": "code",
   "execution_count": 12,
   "metadata": {},
   "outputs": [
    {
     "data": {
      "text/plain": [
       "Text(0, 0.5, 'Silhouette scores')"
      ]
     },
     "execution_count": 12,
     "metadata": {},
     "output_type": "execute_result"
    },
    {
     "data": {
      "image/png": "[encoded data removed]",
      "text/plain": [
       "<Figure size 576x576 with 1 Axes>"
      ]
     },
     "metadata": {
      "needs_background": "light"
     },
     "output_type": "display_data"
    }
   ],
   "source": [
    "import matplotlib.pyplot as plt\n",
    "plt.figure(figsize=(8,8))\n",
    "plt.plot(silhouette, 'ro')\n",
    "plt.xlabel(\"Number of clusters\")\n",
    "plt.ylabel(\"Silhouette scores\")"
   ]
  },
  {
   "cell_type": "markdown",
   "metadata": {},
   "source": [
    "For the test data, N equal to or smaller than 10 will yield silhouette score close to 1, but it peaks at N=9."
   ]
  },
  {
   "cell_type": "markdown",
   "metadata": {},
   "source": [
    "**After reducing the dimension from 11,347 to 10 with IncrementalPCA, the optimal number of clusters is 9. On all three sets of data (train, validation, test), N=9 yields a silhouette score that is almost 1.** \n",
    "\n",
    "The number of components and batch size for the IncrementalPCA algorithm will affect the reduced-dimension dataset, which will in turn affect the result of the clustering algorithm. It is a chain reaction. It seems that this is a too easy clustering task, or maybe my intuition was at an optimal level that for the IncrementalPCA algorithm, I picked the optimal number of components and batch size. \n",
    "\n",
    "For this dataset, the clustering algorithm is almost routine. The trick is to pick the optimal number of components and batch size for the IncrementalPCA algorithm."
   ]
  },
  {
   "cell_type": "markdown",
   "metadata": {},
   "source": [
    "### To take it further:\n",
    "\n",
    "We can take it a step further and turn this into a classification task. Attach the labels assinged by the clustering algorithm to the dataset and it becomes a reasonaly challenging multilabel classification task with 11,347 attributes."
   ]
  },
  {
   "cell_type": "code",
   "execution_count": null,
   "metadata": {},
   "outputs": [],
   "source": []
  }
 ],
 "metadata": {
  "kernelspec": {
   "display_name": "Python 3",
   "language": "python",
   "name": "python3"
  },
  "language_info": {
   "codemirror_mode": {
    "name": "ipython",
    "version": 3
   },
   "file_extension": ".py",
   "mimetype": "text/x-python",
   "name": "python",
   "nbconvert_exporter": "python",
   "pygments_lexer": "ipython3",
   "version": "3.7.6"
  }
 },
 "nbformat": 4,
 "nbformat_minor": 1
}
